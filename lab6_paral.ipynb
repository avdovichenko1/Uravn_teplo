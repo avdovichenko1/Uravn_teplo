{
 "cells": [
  {
   "cell_type": "code",
   "execution_count": 5,
   "metadata": {
    "collapsed": true
   },
   "outputs": [],
   "source": [
    "import numpy as np\n",
    "import torch\n",
    "import torch.nn as nn"
   ]
  },
  {
   "cell_type": "code",
   "execution_count": 18,
   "outputs": [
    {
     "name": "stdout",
     "output_type": "stream",
     "text": [
      "tensor([0.4543], grad_fn=<SigmoidBackward0>)\n"
     ]
    }
   ],
   "source": [
    "class Net(nn.Module):\n",
    "    def __init__(self):\n",
    "        super(Net, self).__init__()\n",
    "        self.fc1 = nn.Linear(1024, 256)\n",
    "        self.fc2 = nn.Linear(256, 16)\n",
    "        self.fc3 = nn.Linear(16, 1)\n",
    "\n",
    "    def forward(self, x):\n",
    "        sigmoid = nn.Sigmoid()\n",
    "        x = sigmoid(self.fc1(x))\n",
    "        x = sigmoid(self.fc2(x))\n",
    "        x = sigmoid(self.fc3(x))\n",
    "        return x\n",
    "\n",
    "input_layer = torch.rand(1024)\n",
    "net = Net()\n",
    "result = net(input_layer)\n",
    "print(result)"
   ],
   "metadata": {
    "collapsed": false
   }
  },
  {
   "cell_type": "code",
   "execution_count": 17,
   "outputs": [],
   "source": [
    "arr = [net.fc1.weight.flatten(), net.fc1.bias, net.fc2.weight.flatten(), net.fc2.bias, net.fc3.weight.flatten(), net.fc3.bias]\n",
    "for i in range(len(arr)):\n",
    "    arr[i] = arr[i].detach().numpy()\n",
    "res = np.concatenate(arr)\n",
    "np.save('weight', res)\n",
    "np.save('input', input_layer.numpy())"
   ],
   "metadata": {
    "collapsed": false
   }
  },
  {
   "cell_type": "code",
   "execution_count": null,
   "outputs": [],
   "source": [],
   "metadata": {
    "collapsed": false
   }
  }
 ],
 "metadata": {
  "kernelspec": {
   "display_name": "Python 3",
   "language": "python",
   "name": "python3"
  },
  "language_info": {
   "codemirror_mode": {
    "name": "ipython",
    "version": 2
   },
   "file_extension": ".py",
   "mimetype": "text/x-python",
   "name": "python",
   "nbconvert_exporter": "python",
   "pygments_lexer": "ipython2",
   "version": "2.7.6"
  }
 },
 "nbformat": 4,
 "nbformat_minor": 0
}
